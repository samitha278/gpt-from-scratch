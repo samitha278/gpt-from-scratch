{
  "nbformat": 4,
  "nbformat_minor": 0,
  "metadata": {
    "colab": {
      "provenance": [],
      "authorship_tag": "ABX9TyMT6cFPVy9IzLBicWON8yhI",
      "include_colab_link": true
    },
    "kernelspec": {
      "name": "python3",
      "display_name": "Python 3"
    },
    "language_info": {
      "name": "python"
    }
  },
  "cells": [
    {
      "cell_type": "markdown",
      "metadata": {
        "id": "view-in-github",
        "colab_type": "text"
      },
      "source": [
        "<a href=\"https://colab.research.google.com/github/samitha278/gpt-from-scratch/blob/main/GPT_from_Scratch.ipynb\" target=\"_parent\"><img src=\"https://colab.research.google.com/assets/colab-badge.svg\" alt=\"Open In Colab\"/></a>"
      ]
    },
    {
      "cell_type": "code",
      "source": [
        " import torch\n",
        "import torch.nn as nn\n",
        "import torch.nn.functional as F\n",
        "import matplotlib.pyplot as plt\n",
        "import gdown\n",
        "import random"
      ],
      "metadata": {
        "id": "tDPI-mQIHtht"
      },
      "execution_count": 1,
      "outputs": []
    },
    {
      "cell_type": "code",
      "source": [
        "file_id = \"1ia6z4itw7WJWpnoTohURX6Lm-AnZmVZz\"\n",
        "url = f\"https://drive.google.com/uc?id={file_id}\"\n",
        "\n",
        "output = \"input.txt\"\n",
        "gdown.download(url, output, quiet=False)"
      ],
      "metadata": {
        "colab": {
          "base_uri": "https://localhost:8080/",
          "height": 109
        },
        "id": "vX2lDjnvIvll",
        "outputId": "c52d511d-910d-4b68-ab67-fd5e28873b25"
      },
      "execution_count": 2,
      "outputs": [
        {
          "output_type": "stream",
          "name": "stderr",
          "text": [
            "Downloading...\n",
            "From: https://drive.google.com/uc?id=1ia6z4itw7WJWpnoTohURX6Lm-AnZmVZz\n",
            "To: /content/input.txt\n",
            "100%|██████████| 1.12M/1.12M [00:00<00:00, 14.1MB/s]\n"
          ]
        },
        {
          "output_type": "execute_result",
          "data": {
            "text/plain": [
              "'input.txt'"
            ],
            "application/vnd.google.colaboratory.intrinsic+json": {
              "type": "string"
            }
          },
          "metadata": {},
          "execution_count": 2
        }
      ]
    },
    {
      "cell_type": "code",
      "source": [
        "with open('input.txt', 'r', encoding='utf-8') as f:\n",
        "    text = f.read()\n",
        "\n",
        "len(text)"
      ],
      "metadata": {
        "colab": {
          "base_uri": "https://localhost:8080/"
        },
        "id": "2nv2qQxTJYH0",
        "outputId": "b29cbc3c-4c9f-449a-8c29-a473e41cad54"
      },
      "execution_count": 3,
      "outputs": [
        {
          "output_type": "execute_result",
          "data": {
            "text/plain": [
              "1115394"
            ]
          },
          "metadata": {},
          "execution_count": 3
        }
      ]
    },
    {
      "cell_type": "code",
      "source": [
        "chars = sorted(list(set(text)))\n",
        "vocab_size = len(chars)\n",
        "print(''.join(chars))\n",
        "print(vocab_size)"
      ],
      "metadata": {
        "colab": {
          "base_uri": "https://localhost:8080/"
        },
        "id": "nw2xR7QTKFvp",
        "outputId": "7b5cb271-a673-466d-e4fe-70582d7f5680"
      },
      "execution_count": 4,
      "outputs": [
        {
          "output_type": "stream",
          "name": "stdout",
          "text": [
            "\n",
            " !$&',-.3:;?ABCDEFGHIJKLMNOPQRSTUVWXYZabcdefghijklmnopqrstuvwxyz\n",
            "65\n"
          ]
        }
      ]
    },
    {
      "cell_type": "code",
      "source": [
        "stoi = {s:i for i,s in enumerate(chars)}\n",
        "itos = {i:s for i,s in enumerate(chars)}\n",
        "\n",
        "encode = lambda s : [stoi[ch] for ch in s]\n",
        "decode = lambda l : ''.join(itos[i] for i in l)\n",
        "\n",
        "print(encode(\"Hello world\"))\n",
        "print(decode(encode(\"Hello world\")))"
      ],
      "metadata": {
        "colab": {
          "base_uri": "https://localhost:8080/"
        },
        "id": "8cnqtaA5KG4X",
        "outputId": "b9dbf102-ecd6-4c77-ef04-fd652c3228d2"
      },
      "execution_count": 5,
      "outputs": [
        {
          "output_type": "stream",
          "name": "stdout",
          "text": [
            "[20, 43, 50, 50, 53, 1, 61, 53, 56, 50, 42]\n",
            "Hello world\n"
          ]
        }
      ]
    },
    {
      "cell_type": "code",
      "source": [
        "data = torch.tensor(encode(text))\n",
        "data[:100]"
      ],
      "metadata": {
        "colab": {
          "base_uri": "https://localhost:8080/"
        },
        "id": "ZjyancDSRgIp",
        "outputId": "fa286448-e328-4688-8420-20f7d5baccd7"
      },
      "execution_count": 6,
      "outputs": [
        {
          "output_type": "execute_result",
          "data": {
            "text/plain": [
              "tensor([18, 47, 56, 57, 58,  1, 15, 47, 58, 47, 64, 43, 52, 10,  0, 14, 43, 44,\n",
              "        53, 56, 43,  1, 61, 43,  1, 54, 56, 53, 41, 43, 43, 42,  1, 39, 52, 63,\n",
              "         1, 44, 59, 56, 58, 46, 43, 56,  6,  1, 46, 43, 39, 56,  1, 51, 43,  1,\n",
              "        57, 54, 43, 39, 49,  8,  0,  0, 13, 50, 50, 10,  0, 31, 54, 43, 39, 49,\n",
              "         6,  1, 57, 54, 43, 39, 49,  8,  0,  0, 18, 47, 56, 57, 58,  1, 15, 47,\n",
              "        58, 47, 64, 43, 52, 10,  0, 37, 53, 59])"
            ]
          },
          "metadata": {},
          "execution_count": 6
        }
      ]
    },
    {
      "cell_type": "code",
      "source": [
        "n = int(0.9* len(data))\n",
        "train = data[:n]\n",
        "val = data[n:]"
      ],
      "metadata": {
        "id": "gCCeKh6WUFYG"
      },
      "execution_count": 7,
      "outputs": []
    },
    {
      "cell_type": "code",
      "source": [
        "block_size = 8\n",
        "\n",
        "x = train[:block_size]\n",
        "y = train[1:block_size+1]\n",
        "\n",
        "for i in range(block_size):\n",
        "  context = x[:i+1]\n",
        "  target = y[i]\n",
        "\n",
        "  print(f'{context} target:{target}')"
      ],
      "metadata": {
        "colab": {
          "base_uri": "https://localhost:8080/"
        },
        "id": "5F1f9l90VVvC",
        "outputId": "8dbef70d-1cdb-44de-be59-94768ca57b78"
      },
      "execution_count": 8,
      "outputs": [
        {
          "output_type": "stream",
          "name": "stdout",
          "text": [
            "tensor([18]) target:47\n",
            "tensor([18, 47]) target:56\n",
            "tensor([18, 47, 56]) target:57\n",
            "tensor([18, 47, 56, 57]) target:58\n",
            "tensor([18, 47, 56, 57, 58]) target:1\n",
            "tensor([18, 47, 56, 57, 58,  1]) target:15\n",
            "tensor([18, 47, 56, 57, 58,  1, 15]) target:47\n",
            "tensor([18, 47, 56, 57, 58,  1, 15, 47]) target:58\n"
          ]
        }
      ]
    },
    {
      "cell_type": "code",
      "source": [
        "ix = torch.randint(100-block_size, (4,))\n",
        "ix"
      ],
      "metadata": {
        "colab": {
          "base_uri": "https://localhost:8080/"
        },
        "id": "X0dSQLVFM4UQ",
        "outputId": "a0b2b4bb-78e7-4d09-ea9e-a4f7a85fb27b"
      },
      "execution_count": 9,
      "outputs": [
        {
          "output_type": "execute_result",
          "data": {
            "text/plain": [
              "tensor([57, 75, 26, 74])"
            ]
          },
          "metadata": {},
          "execution_count": 9
        }
      ]
    },
    {
      "cell_type": "code",
      "source": [
        "torch.manual_seed(278)\n",
        "\n",
        "\n",
        "batch_size = 4\n",
        "block_size = 8\n",
        "\n",
        "\n",
        "def get_batch(split):\n",
        "\n",
        "  data = train if split=='train' else val\n",
        "  ix = torch.randint(len(data)-block_size, (batch_size,))\n",
        "  x = torch.stack([data[i:block_size+i] for i in ix])\n",
        "  y = torch.stack([data[i+1:block_size+i+1] for i in ix])\n",
        "  return x,y\n",
        "\n",
        "\n",
        "xb,yb = get_batch('train')\n",
        "\n",
        "xb,yb"
      ],
      "metadata": {
        "id": "VUqDG0uBcN0W",
        "colab": {
          "base_uri": "https://localhost:8080/"
        },
        "outputId": "dbd43db8-80af-448a-8078-037b3ee0bf38"
      },
      "execution_count": 10,
      "outputs": [
        {
          "output_type": "execute_result",
          "data": {
            "text/plain": [
              "(tensor([[47, 57,  0, 42, 39, 59, 45, 46],\n",
              "         [40, 59, 58,  1, 40, 39, 57, 58],\n",
              "         [58, 53,  1, 46, 43, 56,  1, 57],\n",
              "         [50, 63,  0, 58, 39, 56, 56, 63]]),\n",
              " tensor([[57,  0, 42, 39, 59, 45, 46, 58],\n",
              "         [59, 58,  1, 40, 39, 57, 58, 39],\n",
              "         [53,  1, 46, 43, 56,  1, 57, 53],\n",
              "         [63,  0, 58, 39, 56, 56, 63,  1]]))"
            ]
          },
          "metadata": {},
          "execution_count": 10
        }
      ]
    },
    {
      "cell_type": "markdown",
      "source": [
        "## Bigram Language Model"
      ],
      "metadata": {
        "id": "-bdswUyciIta"
      }
    },
    {
      "cell_type": "code",
      "source": [
        "torch.manual_seed(278)\n",
        "\n",
        "class BigramLM(nn.Module):\n",
        "\n",
        "  def __init__(self,vocab_size):\n",
        "    super().__init__()\n",
        "\n",
        "    self.token_emb_table = nn.Embedding(vocab_size,vocab_size)\n",
        "\n",
        "\n",
        "  def __call__(self,idx , targets=None):\n",
        "\n",
        "    logits = self.token_emb_table(idx)    #shape: (b,t,c)\n",
        "    if targets is None:\n",
        "      loss = None\n",
        "    else:\n",
        "      loss = F.cross_entropy(logits.view(-1,vocab_size) , targets.view(-1))\n",
        "\n",
        "    return logits , loss\n",
        "\n",
        "\n",
        "  def generate(self,idx, max_new_tokens):\n",
        "\n",
        "    for _ in range(max_new_tokens):\n",
        "\n",
        "      logits , loss = self(idx)\n",
        "\n",
        "      logits = logits[:,-1,:] #from all batch's last element's logits\n",
        "\n",
        "      probs = F.softmax(logits,dim=1)\n",
        "\n",
        "      ix = torch.multinomial(probs,num_samples=1)\n",
        "\n",
        "      idx = torch.cat((idx,ix), dim=1)\n",
        "\n",
        "    return idx\n",
        "\n",
        "\n",
        "\n",
        "bigram = BigramLM(vocab_size)\n",
        "logits , loss = bigram(xb,yb)\n",
        "\n",
        "print(logits.shape,loss)\n",
        "\n",
        "\n",
        "\n",
        "idx= torch.zeros((1,1),dtype= torch.long)\n",
        "\n",
        "print(decode(bigram.generate(idx,max_new_tokens=100)[0].tolist()))\n",
        "\n",
        "\n",
        "\n",
        "\n",
        "\n"
      ],
      "metadata": {
        "colab": {
          "base_uri": "https://localhost:8080/"
        },
        "id": "UZcc2HxMHv5l",
        "outputId": "9f9c4017-cfe0-49ee-a596-d1bf0e55a087"
      },
      "execution_count": 11,
      "outputs": [
        {
          "output_type": "stream",
          "name": "stdout",
          "text": [
            "torch.Size([4, 8, 65]) tensor(4.5468, grad_fn=<NllLossBackward0>)\n",
            "\n",
            "hDkMQcyOQpP-rU-,VfVk:rXwxj Ug$$kNRxr.x'R3ULl!WC?fErPF'K'nybrlziq:IF:J.-YVN.jj$R-kDwR\n",
            "hWiDAg,rHH'!JzL\n"
          ]
        }
      ]
    },
    {
      "cell_type": "code",
      "source": [
        "print([i.shape for i in bigram.parameters()])   #token_emb_table"
      ],
      "metadata": {
        "colab": {
          "base_uri": "https://localhost:8080/"
        },
        "id": "ok6jBOBXMMAK",
        "outputId": "51261983-430f-4bb9-a6f9-7907c3d33a9d"
      },
      "execution_count": 12,
      "outputs": [
        {
          "output_type": "stream",
          "name": "stdout",
          "text": [
            "[torch.Size([65, 65])]\n"
          ]
        }
      ]
    },
    {
      "cell_type": "code",
      "source": [
        "optimizer = torch.optim.AdamW(bigram.parameters(),lr = 1e-3)"
      ],
      "metadata": {
        "id": "O-8ftb_0kxxQ"
      },
      "execution_count": 13,
      "outputs": []
    },
    {
      "cell_type": "code",
      "source": [
        "batch_size = 32\n",
        "\n",
        "for i in range(1000):\n",
        "\n",
        "  xb,yb = get_batch('train')\n",
        "\n",
        "  logits , loss = bigram(xb,yb  )\n",
        "\n",
        "  optimizer.zero_grad(set_to_none=True)\n",
        "\n",
        "  loss.backward()\n",
        "\n",
        "  optimizer.step()\n",
        "\n",
        "  if i%10000 == 0:\n",
        "    print(loss.item())\n"
      ],
      "metadata": {
        "colab": {
          "base_uri": "https://localhost:8080/"
        },
        "id": "Z18XvwxBqk7J",
        "outputId": "157bf27e-723c-4674-a909-d4d01a3f6e7f"
      },
      "execution_count": 14,
      "outputs": [
        {
          "output_type": "stream",
          "name": "stdout",
          "text": [
            "4.7092204093933105\n"
          ]
        }
      ]
    },
    {
      "cell_type": "code",
      "source": [
        "idx= torch.zeros((1,1),dtype= torch.long)\n",
        "\n",
        "print(decode(bigram.generate(idx,max_new_tokens=100)[0].tolist()))"
      ],
      "metadata": {
        "colab": {
          "base_uri": "https://localhost:8080/"
        },
        "id": "TCpboy-Osf_q",
        "outputId": "f7dbb759-1645-4997-e9a3-4e3b6467a374"
      },
      "execution_count": 15,
      "outputs": [
        {
          "output_type": "stream",
          "name": "stdout",
          "text": [
            "\n",
            "hW. U EQ&KHb\n",
            "SKB3FKB&jq&p;JoYXMvlik:cusuILA:ivFrod3Y!\n",
            "K?$ne FsT liO't JCoAHpEqKLKm!mLD3fMWArtawnJICl\n"
          ]
        }
      ]
    },
    {
      "cell_type": "markdown",
      "source": [
        "### Averaging past context"
      ],
      "metadata": {
        "id": "szy4_fxo83D9"
      }
    },
    {
      "cell_type": "code",
      "source": [
        "x,y = get_batch('train')\n",
        "x[:4]"
      ],
      "metadata": {
        "colab": {
          "base_uri": "https://localhost:8080/"
        },
        "id": "ie_2vD6R8hWy",
        "outputId": "00635249-e57d-452c-abb0-22d5b6434b0b"
      },
      "execution_count": 16,
      "outputs": [
        {
          "output_type": "execute_result",
          "data": {
            "text/plain": [
              "tensor([[49,  1, 46, 47, 57,  1, 45, 56],\n",
              "        [ 1, 50, 47, 60, 43,  6,  0, 21],\n",
              "        [61, 56, 39, 54,  1, 53, 59, 56],\n",
              "        [46,  7,  7,  0,  0, 29, 33, 17]])"
            ]
          },
          "metadata": {},
          "execution_count": 16
        }
      ]
    },
    {
      "cell_type": "code",
      "source": [
        "xb,yb = bigram(x,y)\n",
        "B,T,C = xb.shape\n",
        "xb.shape"
      ],
      "metadata": {
        "colab": {
          "base_uri": "https://localhost:8080/"
        },
        "id": "McqmuoSMs8KP",
        "outputId": "154c46bc-c85b-475a-8221-40af5ca485d2"
      },
      "execution_count": 17,
      "outputs": [
        {
          "output_type": "execute_result",
          "data": {
            "text/plain": [
              "torch.Size([32, 8, 65])"
            ]
          },
          "metadata": {},
          "execution_count": 17
        }
      ]
    },
    {
      "cell_type": "code",
      "source": [
        "xbow = torch.zeros(xb.shape)\n",
        "\n",
        "for b in range(B):\n",
        "  for t in range(T):\n",
        "\n",
        "    xprev = xb[b,:t+1]\n",
        "    xbow[b,t] = xprev.mean(0)"
      ],
      "metadata": {
        "id": "EvqNBUVY8_8g"
      },
      "execution_count": 18,
      "outputs": []
    },
    {
      "cell_type": "markdown",
      "source": [
        "### Averaging with matrix multiplication"
      ],
      "metadata": {
        "id": "9zE5JLMNJZQ0"
      }
    },
    {
      "cell_type": "code",
      "source": [
        "avg8 = torch.tensor([1/i for i in range(1,T+1)])\n",
        "avg8"
      ],
      "metadata": {
        "colab": {
          "base_uri": "https://localhost:8080/"
        },
        "id": "yc4zw8RI98ts",
        "outputId": "784ffd5b-e40f-49d2-ed3f-406a745e99fc"
      },
      "execution_count": 19,
      "outputs": [
        {
          "output_type": "execute_result",
          "data": {
            "text/plain": [
              "tensor([1.0000, 0.5000, 0.3333, 0.2500, 0.2000, 0.1667, 0.1429, 0.1250])"
            ]
          },
          "metadata": {},
          "execution_count": 19
        }
      ]
    },
    {
      "cell_type": "code",
      "source": [
        "avg88 = (avg8*torch.ones(T,T)).T"
      ],
      "metadata": {
        "id": "PyD4iqGcG1X7"
      },
      "execution_count": 20,
      "outputs": []
    },
    {
      "cell_type": "code",
      "source": [
        "avg88_tril = torch.tril(avg88)\n",
        "avg88_tril"
      ],
      "metadata": {
        "colab": {
          "base_uri": "https://localhost:8080/"
        },
        "id": "ym0kyf3_I9E-",
        "outputId": "c5f6350f-2d26-46eb-f5ce-183078c95398"
      },
      "execution_count": 21,
      "outputs": [
        {
          "output_type": "execute_result",
          "data": {
            "text/plain": [
              "tensor([[1.0000, 0.0000, 0.0000, 0.0000, 0.0000, 0.0000, 0.0000, 0.0000],\n",
              "        [0.5000, 0.5000, 0.0000, 0.0000, 0.0000, 0.0000, 0.0000, 0.0000],\n",
              "        [0.3333, 0.3333, 0.3333, 0.0000, 0.0000, 0.0000, 0.0000, 0.0000],\n",
              "        [0.2500, 0.2500, 0.2500, 0.2500, 0.0000, 0.0000, 0.0000, 0.0000],\n",
              "        [0.2000, 0.2000, 0.2000, 0.2000, 0.2000, 0.0000, 0.0000, 0.0000],\n",
              "        [0.1667, 0.1667, 0.1667, 0.1667, 0.1667, 0.1667, 0.0000, 0.0000],\n",
              "        [0.1429, 0.1429, 0.1429, 0.1429, 0.1429, 0.1429, 0.1429, 0.0000],\n",
              "        [0.1250, 0.1250, 0.1250, 0.1250, 0.1250, 0.1250, 0.1250, 0.1250]])"
            ]
          },
          "metadata": {},
          "execution_count": 21
        }
      ]
    },
    {
      "cell_type": "code",
      "source": [
        "a = torch.tril(torch.ones(T,T))\n",
        "a = a / a.sum(1,keepdim=True)\n",
        "a"
      ],
      "metadata": {
        "colab": {
          "base_uri": "https://localhost:8080/"
        },
        "id": "KwvxD1pXLBl3",
        "outputId": "18139f5b-f119-4d54-cae6-1598925b8746"
      },
      "execution_count": 22,
      "outputs": [
        {
          "output_type": "execute_result",
          "data": {
            "text/plain": [
              "tensor([[1.0000, 0.0000, 0.0000, 0.0000, 0.0000, 0.0000, 0.0000, 0.0000],\n",
              "        [0.5000, 0.5000, 0.0000, 0.0000, 0.0000, 0.0000, 0.0000, 0.0000],\n",
              "        [0.3333, 0.3333, 0.3333, 0.0000, 0.0000, 0.0000, 0.0000, 0.0000],\n",
              "        [0.2500, 0.2500, 0.2500, 0.2500, 0.0000, 0.0000, 0.0000, 0.0000],\n",
              "        [0.2000, 0.2000, 0.2000, 0.2000, 0.2000, 0.0000, 0.0000, 0.0000],\n",
              "        [0.1667, 0.1667, 0.1667, 0.1667, 0.1667, 0.1667, 0.0000, 0.0000],\n",
              "        [0.1429, 0.1429, 0.1429, 0.1429, 0.1429, 0.1429, 0.1429, 0.0000],\n",
              "        [0.1250, 0.1250, 0.1250, 0.1250, 0.1250, 0.1250, 0.1250, 0.1250]])"
            ]
          },
          "metadata": {},
          "execution_count": 22
        }
      ]
    },
    {
      "cell_type": "code",
      "source": [
        "xbow_mat = torch.zeros(xb.shape)\n",
        "\n",
        "for batch in range(B):\n",
        "  xbow_mat[batch] = a @ xb[batch]\n"
      ],
      "metadata": {
        "id": "EZ9CAWEwJJrm"
      },
      "execution_count": 23,
      "outputs": []
    },
    {
      "cell_type": "code",
      "source": [
        "xbow2 = a @ xb"
      ],
      "metadata": {
        "id": "oLQwX-QFMVSs"
      },
      "execution_count": 24,
      "outputs": []
    },
    {
      "cell_type": "code",
      "source": [
        "torch.allclose(xbow,xbow2)"
      ],
      "metadata": {
        "colab": {
          "base_uri": "https://localhost:8080/"
        },
        "id": "wkkmgcC3KYPL",
        "outputId": "798ff183-2fb1-4d39-8473-62091ef5bac5"
      },
      "execution_count": 25,
      "outputs": [
        {
          "output_type": "execute_result",
          "data": {
            "text/plain": [
              "False"
            ]
          },
          "metadata": {},
          "execution_count": 25
        }
      ]
    },
    {
      "cell_type": "markdown",
      "source": [
        "### Summary of averaging"
      ],
      "metadata": {
        "id": "lhh4vygKNBV5"
      }
    },
    {
      "cell_type": "code",
      "source": [
        "a = torch.tril(torch.ones(T,T))\n",
        "a = a / a.sum(1,keepdim=True)\n",
        "\n",
        "xbow = a @ xb\n"
      ],
      "metadata": {
        "id": "R7-Q7Pe6M1g1"
      },
      "execution_count": 26,
      "outputs": []
    },
    {
      "cell_type": "markdown",
      "source": [
        "### Version 3"
      ],
      "metadata": {
        "id": "tyz-62DQRov_"
      }
    },
    {
      "cell_type": "code",
      "source": [
        "tril = torch.tril(torch.ones(T,T))\n",
        "wei = torch.zeros((T,T))\n",
        "wei = wei.masked_fill(tril==0, float('-inf'))\n",
        "\n",
        "wei = F.softmax(wei,dim = 1)\n",
        "\n",
        "xbow3 = wei @ xb\n",
        "(xbow3 == xbow2).all()"
      ],
      "metadata": {
        "colab": {
          "base_uri": "https://localhost:8080/"
        },
        "id": "E1Z9p3OuRoWM",
        "outputId": "0623aa22-5f74-4143-c50c-cc40eebbc35c"
      },
      "execution_count": 27,
      "outputs": [
        {
          "output_type": "execute_result",
          "data": {
            "text/plain": [
              "tensor(True)"
            ]
          },
          "metadata": {},
          "execution_count": 27
        }
      ]
    },
    {
      "cell_type": "markdown",
      "source": [
        "### Version 4 - Self attention"
      ],
      "metadata": {
        "id": "Wo7yxXGNun3P"
      }
    },
    {
      "cell_type": "code",
      "source": [
        "torch.manual_seed(278)\n",
        "B,T,C = 4,8,32 # batch, time, channels\n",
        "x = torch.randn(B,T,C)\n",
        "\n",
        "\n",
        "head_size = 16\n",
        "\n",
        "key = nn.Linear(C, head_size, bias=False)\n",
        "query = nn.Linear(C, head_size, bias=False)\n",
        "value = nn.Linear(C, head_size, bias=False)\n",
        "\n",
        "\n",
        "\n",
        "k = key(x)   # (B, T, 16)\n",
        "q = query(x) # (B, T, 16)\n",
        "wei =  q @ k.transpose(-2, -1)\n",
        "\n",
        "tril = torch.tril(torch.ones(T, T))\n",
        "\n",
        "wei = wei.masked_fill(tril == 0, float('-inf'))\n",
        "wei = F.softmax(wei, dim=-1)\n",
        "\n",
        "v = value(x)\n",
        "out = wei @ v\n",
        "\n",
        "out.shape"
      ],
      "metadata": {
        "id": "opdWkZ9qsDqM",
        "colab": {
          "base_uri": "https://localhost:8080/"
        },
        "outputId": "27ea46c2-b463-40bd-8e76-9fefe14cc57e"
      },
      "execution_count": 28,
      "outputs": [
        {
          "output_type": "execute_result",
          "data": {
            "text/plain": [
              "torch.Size([4, 8, 16])"
            ]
          },
          "metadata": {},
          "execution_count": 28
        }
      ]
    },
    {
      "cell_type": "markdown",
      "source": [
        "### mat mul high dimension"
      ],
      "metadata": {
        "id": "R0NiIdN7sSHf"
      }
    },
    {
      "cell_type": "code",
      "source": [
        "a = torch.randn((2,4,8))\n",
        "b = torch.randn((2,4,4))\n",
        "b @ a"
      ],
      "metadata": {
        "id": "JRyGfr0qKbvh",
        "colab": {
          "base_uri": "https://localhost:8080/"
        },
        "outputId": "43346183-ed20-4de7-8cbd-45b5467da43f"
      },
      "execution_count": 29,
      "outputs": [
        {
          "output_type": "execute_result",
          "data": {
            "text/plain": [
              "tensor([[[-0.1080,  3.4493, -0.0389, -2.0157,  0.3596, -1.5135,  1.6457,\n",
              "          -1.3712],\n",
              "         [-1.0791, -0.5694, -0.1386,  2.9522,  0.5635,  0.4879, -1.8812,\n",
              "           3.2153],\n",
              "         [-1.7204, -0.5798,  0.2062,  0.4670,  0.4478, -0.1849, -0.1060,\n",
              "           1.6224],\n",
              "         [-2.2160,  4.4720,  0.0718, -1.4928,  1.2393, -2.3581,  1.6715,\n",
              "           0.7310]],\n",
              "\n",
              "        [[ 3.7422, -0.6046,  1.8760, -1.7515,  1.8201, -2.3911, -2.3626,\n",
              "           0.6900],\n",
              "         [ 3.2248,  0.7812,  2.1391, -0.6751,  1.5220, -2.4509, -3.0965,\n",
              "           1.6815],\n",
              "         [ 3.8133, -1.2514,  2.2410, -2.2957,  2.3149, -2.5146, -0.9141,\n",
              "           0.3985],\n",
              "         [ 2.1424, -1.9206,  4.1068, -1.7650,  2.1677, -1.9662,  5.3301,\n",
              "           0.0766]]])"
            ]
          },
          "metadata": {},
          "execution_count": 29
        }
      ]
    },
    {
      "cell_type": "code",
      "source": [
        "xt,yt = get_batch('train')\n",
        "\n",
        "xt.shape"
      ],
      "metadata": {
        "colab": {
          "base_uri": "https://localhost:8080/"
        },
        "id": "VAvm6jslBQR9",
        "outputId": "163f1df4-55a9-4ff0-adca-79aed4e54386"
      },
      "execution_count": 30,
      "outputs": [
        {
          "output_type": "execute_result",
          "data": {
            "text/plain": [
              "torch.Size([32, 8])"
            ]
          },
          "metadata": {},
          "execution_count": 30
        }
      ]
    },
    {
      "cell_type": "code",
      "source": [
        "token_embd = nn.Embedding(65,40)\n",
        "token_embd.weight.shape\n",
        "\n",
        "out = token_embd(xt)\n",
        "out.shape"
      ],
      "metadata": {
        "colab": {
          "base_uri": "https://localhost:8080/"
        },
        "id": "U0u7GD7pC5Uh",
        "outputId": "7ca4140c-afd4-4896-e7fa-b944e33c8910"
      },
      "execution_count": 31,
      "outputs": [
        {
          "output_type": "execute_result",
          "data": {
            "text/plain": [
              "torch.Size([32, 8, 40])"
            ]
          },
          "metadata": {},
          "execution_count": 31
        }
      ]
    },
    {
      "cell_type": "code",
      "source": [
        "lm_head = nn.Linear(40,65)\n",
        "lm_head.weight.T.shape"
      ],
      "metadata": {
        "colab": {
          "base_uri": "https://localhost:8080/"
        },
        "id": "z9x51LPjDFAi",
        "outputId": "b0f8a440-d288-42d0-b579-1c823b6f311c"
      },
      "execution_count": 32,
      "outputs": [
        {
          "output_type": "execute_result",
          "data": {
            "text/plain": [
              "torch.Size([40, 65])"
            ]
          },
          "metadata": {},
          "execution_count": 32
        }
      ]
    },
    {
      "cell_type": "code",
      "source": [
        "lm_head(out).shape"
      ],
      "metadata": {
        "colab": {
          "base_uri": "https://localhost:8080/"
        },
        "id": "azupvkEMLg_l",
        "outputId": "1ce9ab6c-305f-46a7-e7a7-147893f6bbfc"
      },
      "execution_count": 33,
      "outputs": [
        {
          "output_type": "execute_result",
          "data": {
            "text/plain": [
              "torch.Size([32, 8, 65])"
            ]
          },
          "metadata": {},
          "execution_count": 33
        }
      ]
    },
    {
      "cell_type": "markdown",
      "source": [
        "## Step 2 Updated Bigram\n"
      ],
      "metadata": {
        "id": "iLwjnX8uz5GV"
      }
    },
    {
      "cell_type": "code",
      "source": [
        "# hyperparameters\n",
        "batch_size = 32\n",
        "block_size = 64\n",
        "eval_iters = 10000\n",
        "n_embd = 128\n",
        "head_size = n_embd\n",
        "max_iter  = 10000\n",
        "learning_rate = 1e-2"
      ],
      "metadata": {
        "id": "6E-l_4D0-yQ9"
      },
      "execution_count": 34,
      "outputs": []
    },
    {
      "cell_type": "code",
      "source": [
        "class selfAttentionHead(nn.Module):\n",
        "\n",
        "\n",
        "    def __init__(self,head_size):\n",
        "        super().__init__()\n",
        "        self.key = nn.Linear(n_embd, head_size, bias=False)\n",
        "        self.query = nn.Linear(n_embd, head_size, bias=False)\n",
        "        self.value = nn.Linear(n_embd, head_size, bias=False)\n",
        "        self.register_buffer('tril', torch.tril(torch.ones(block_size, block_size)))\n",
        "\n",
        "\n",
        "    def forward(self,x):\n",
        "\n",
        "        B,T,C = x.shape\n",
        "\n",
        "        key = self.key(x)\n",
        "        query = self.query(x)\n",
        "\n",
        "        weight = query @ key.transpose(-2,-1) * C**-0.5\n",
        "        weight = weight.masked_fill(self.tril[:T,:T]==0,float('-inf'))\n",
        "        weight = F.softmax(weight,dim=-1)\n",
        "\n",
        "        value = self.value(x)\n",
        "\n",
        "        self.out = weight @ value\n",
        "\n",
        "        return self.out\n",
        "\n",
        "\n",
        "\n",
        "class transformerDecoder(nn.Module):\n",
        "\n",
        "    def __init__(self):\n",
        "        super().__init__()\n",
        "\n",
        "        self.embd_table = nn.Embedding(vocab_size,n_embd)\n",
        "        self.pos_embd_table = nn.Embedding(block_size,n_embd)\n",
        "\n",
        "        self.sa_head = selfAttentionHead(head_size)\n",
        "\n",
        "        self.lm_head = nn.Linear(head_size,vocab_size)\n",
        "\n",
        "\n",
        "\n",
        "\n",
        "    def forward(self,input, targets = None):\n",
        "\n",
        "        B,T = input.shape\n",
        "\n",
        "        token_embd = self.embd_table(input)\n",
        "        pos_embd = self.pos_embd_table(torch.arange(T))\n",
        "\n",
        "        x = token_embd+pos_embd\n",
        "        x = self.sa_head(x)\n",
        "\n",
        "        logits = self.lm_head(x)\n",
        "\n",
        "\n",
        "        if targets is None:\n",
        "            loss = None\n",
        "        else:\n",
        "            B,T,C = logits.shape\n",
        "            loss = F.cross_entropy(logits.view(B*T,C),targets.view(-1))\n",
        "\n",
        "        return logits , loss\n",
        "\n",
        "\n",
        "\n",
        "    def generate(self,input,max_token):\n",
        "\n",
        "        for _ in range(max_token):\n",
        "            input_cond = input[:,-block_size:]\n",
        "            logits , loss = self(input_cond)\n",
        "            logits = logits[:,-1,:]\n",
        "\n",
        "            probs = F.softmax(logits, dim=-1)\n",
        "            next_index = torch.multinomial(probs,1)\n",
        "\n",
        "            input = torch.cat((input,next_index),dim = 1)\n",
        "\n",
        "        return input\n",
        "\n",
        "\n",
        "    def train(self):\n",
        "\n",
        "        # create a PyTorch optimizer\n",
        "        optimizer = torch.optim.AdamW(self.parameters(), lr=learning_rate)\n",
        "\n",
        "        for i in range(max_iter):\n",
        "\n",
        "            xb,yb = get_batch('train')\n",
        "\n",
        "            # evaluate model\n",
        "            logits , loss = model(xb,yb)\n",
        "\n",
        "            optimizer.zero_grad(set_to_none=True)\n",
        "            loss.backward()\n",
        "            optimizer.step()\n",
        "\n",
        "\n",
        "            if i% (max_iter/10) == 0:\n",
        "                print(f'{i}/{max_iter}  {loss}')\n",
        "\n",
        "\n",
        "\n",
        "# ----------------------------------------------------------\n",
        "\n",
        "\n",
        "# model evaluation\n",
        "@torch.no_grad()\n",
        "def estimate_loss():\n",
        "    out = {}\n",
        "    model.eval()\n",
        "    for split in ['train', 'val']:\n",
        "        losses = torch.zeros(eval_iters)\n",
        "        for k in range(eval_iters):\n",
        "            X, Y = get_batch(split)\n",
        "            logits, loss = model(X, Y)\n",
        "            losses[k] = loss.item()\n",
        "        out[split] = losses.mean()\n",
        "    model.train()\n",
        "    return out\n",
        "\n",
        "\n",
        "\n",
        "\n",
        "# Train model\n",
        "model = transformerDecoder()\n",
        "#model.train()\n",
        "\n",
        "\n",
        "\n",
        "\n",
        "\n",
        "# genarate from the model\n",
        "# context = torch.zeros((1,1),dtype=torch.long)\n",
        "# print(decode(model.generate(context,max_token=100)[0].tolist()))\n",
        "\n",
        "\n",
        "\n"
      ],
      "metadata": {
        "id": "84zZf-riL2hH"
      },
      "execution_count": 45,
      "outputs": []
    },
    {
      "cell_type": "code",
      "source": [
        "model.__dict__['_modules']"
      ],
      "metadata": {
        "colab": {
          "base_uri": "https://localhost:8080/"
        },
        "id": "Vc0vZGwB1awT",
        "outputId": "e19d2c35-251a-4c38-e45a-00994f2872eb"
      },
      "execution_count": 46,
      "outputs": [
        {
          "output_type": "execute_result",
          "data": {
            "text/plain": [
              "{'embd_table': Embedding(65, 128),\n",
              " 'pos_embd_table': Embedding(8, 128),\n",
              " 'sa_head': selfAttentionHead(\n",
              "   (key): Linear(in_features=128, out_features=16, bias=False)\n",
              "   (query): Linear(in_features=128, out_features=16, bias=False)\n",
              "   (value): Linear(in_features=128, out_features=16, bias=False)\n",
              " ),\n",
              " 'lm_head': Linear(in_features=16, out_features=65, bias=True)}"
            ]
          },
          "metadata": {},
          "execution_count": 46
        }
      ]
    },
    {
      "cell_type": "markdown",
      "source": [
        "### test"
      ],
      "metadata": {
        "id": "68aLDCPB7Uso"
      }
    },
    {
      "cell_type": "code",
      "source": [
        "batch_size = 1\n",
        "block_size = 8\n",
        "eval_iters = 10000\n",
        "n_embd = 128\n",
        "head_size = 16\n",
        "max_iter  = 10000\n",
        "learning_rate = 1e-2"
      ],
      "metadata": {
        "id": "EK7U7K-E6ZYY"
      },
      "execution_count": 47,
      "outputs": []
    },
    {
      "cell_type": "code",
      "source": [
        "input= torch.tensor([[53, 50, 43, 56, 10,  0, 25, 39]])\n",
        "targets = torch.tensor([50, 43, 56, 10,  0, 25, 39, 42])"
      ],
      "metadata": {
        "id": "9-7YWLPK7kko"
      },
      "execution_count": 48,
      "outputs": []
    },
    {
      "cell_type": "code",
      "source": [
        "simple_model = transformerDecoder()"
      ],
      "metadata": {
        "id": "asRPHFFr9-xV"
      },
      "execution_count": 49,
      "outputs": []
    },
    {
      "cell_type": "code",
      "source": [
        "simple_model(input,targets)"
      ],
      "metadata": {
        "colab": {
          "base_uri": "https://localhost:8080/"
        },
        "id": "2q6u341X-dCn",
        "outputId": "41b077d2-2cc2-487c-89e7-df765fdb1e9e"
      },
      "execution_count": 51,
      "outputs": [
        {
          "output_type": "execute_result",
          "data": {
            "text/plain": [
              "(tensor([[[ 1.5113e-01, -8.6961e-01,  7.4428e-01, -5.3501e-01, -7.4094e-01,\n",
              "           -1.6690e-01, -2.4325e-02,  1.6348e-01, -1.8223e-01, -4.7238e-01,\n",
              "            3.5420e-02,  6.2345e-01,  7.7287e-01, -2.0956e-02,  5.5341e-01,\n",
              "            8.5361e-01, -2.2363e-02,  1.0059e-01, -1.9700e-01, -8.4409e-02,\n",
              "           -6.7420e-02,  3.4854e-01, -4.2118e-01,  6.4072e-01, -1.1880e-02,\n",
              "           -1.5592e-01,  8.0290e-01, -2.1901e-02,  5.8783e-01, -8.9990e-01,\n",
              "            5.3407e-01,  4.6970e-01,  3.8428e-01,  1.4025e-01,  6.1066e-01,\n",
              "           -5.7978e-02, -1.9403e-01, -4.1039e-01,  4.5685e-01,  4.0871e-01,\n",
              "           -7.6304e-01, -1.4910e+00, -3.8945e-01,  5.1665e-01, -6.5653e-01,\n",
              "           -1.4551e-01, -4.0071e-03,  1.8534e-01, -2.2413e-01,  5.3468e-01,\n",
              "            7.6167e-02,  6.4892e-01,  7.1710e-02,  1.6055e-01, -1.2484e-02,\n",
              "           -1.7057e-01, -7.0365e-01,  4.3949e-01, -3.5248e-01,  5.9428e-01,\n",
              "           -8.6703e-02,  6.1627e-02, -1.9796e-01, -3.5068e-02,  5.3454e-01],\n",
              "          [-1.8739e-01, -1.0275e+00,  1.0173e+00, -1.8907e-01, -7.6110e-01,\n",
              "           -3.5835e-01, -1.7495e-01,  2.1007e-01,  9.9948e-02, -1.5990e-01,\n",
              "            1.9855e-01,  4.8029e-01,  6.2517e-01,  2.6719e-02,  5.7044e-01,\n",
              "            6.7987e-01, -1.7264e-01,  4.0131e-01, -3.4363e-01,  2.0757e-01,\n",
              "           -3.1244e-01,  1.1035e-01, -3.0035e-01,  6.5793e-01, -2.0153e-01,\n",
              "           -2.2646e-01,  3.6522e-01, -2.8946e-01,  5.8164e-01, -8.2484e-01,\n",
              "            2.3466e-01,  3.1369e-01,  1.0555e-01, -1.6778e-01,  2.3982e-01,\n",
              "           -1.4957e-01, -1.9832e-02, -4.2790e-01,  2.4886e-01,  1.4661e-01,\n",
              "           -7.2503e-01, -1.3046e+00, -2.1603e-01,  4.2394e-01, -8.9357e-01,\n",
              "           -2.0992e-01,  6.0681e-02, -1.6809e-01, -1.0492e-01,  5.9272e-02,\n",
              "            2.4752e-01,  5.6556e-01,  2.7843e-01,  4.0435e-01, -2.2183e-01,\n",
              "           -3.8142e-01, -6.4235e-01,  2.8080e-01,  3.8567e-02,  9.9116e-01,\n",
              "            9.0390e-02,  6.0463e-02, -1.9543e-01, -1.7842e-01,  6.3312e-01],\n",
              "          [-4.8776e-02, -6.5057e-01,  4.4786e-01, -5.6646e-01, -7.4031e-01,\n",
              "           -5.6347e-02, -3.4604e-01,  3.3958e-01,  2.5451e-01, -2.3213e-01,\n",
              "           -8.3697e-02,  4.2394e-01,  3.4455e-01, -1.5951e-01,  5.3307e-01,\n",
              "            1.5843e-01,  2.1718e-01,  2.0763e-01,  1.8595e-01, -2.2047e-01,\n",
              "           -5.3678e-01,  3.2475e-01, -9.3319e-04,  3.3997e-01,  1.4769e-01,\n",
              "           -6.5841e-02,  5.1477e-01, -1.2836e-01,  5.1515e-01, -5.3975e-01,\n",
              "           -1.3994e-02, -1.9024e-01,  1.4307e-01, -3.9321e-01,  3.7360e-01,\n",
              "           -1.1273e-01,  2.0064e-01, -1.6865e-01,  2.2454e-01, -6.8667e-02,\n",
              "           -4.2158e-01, -1.0158e+00, -3.7279e-01,  2.3546e-01, -5.5962e-01,\n",
              "           -3.1087e-01, -4.0732e-01,  1.6392e-02,  9.6322e-02,  1.2900e-01,\n",
              "           -1.0762e-01,  3.1096e-01, -2.6459e-01,  1.4865e-01, -1.0039e-01,\n",
              "           -7.3459e-01, -6.2797e-01,  1.4845e-01,  2.2434e-02,  5.2808e-01,\n",
              "            1.7246e-01,  2.3708e-01, -2.8818e-01,  1.2629e-01,  2.1347e-01],\n",
              "          [-1.0009e-01, -5.4196e-01,  4.9318e-01, -4.8469e-01, -6.8709e-01,\n",
              "           -1.4575e-02, -3.2606e-01,  3.0096e-01,  1.5537e-01, -2.3593e-01,\n",
              "           -1.4656e-01,  4.0700e-01,  3.2323e-01, -6.5219e-02,  4.6089e-01,\n",
              "            2.3863e-01,  1.5433e-01,  2.1691e-01,  1.3732e-01, -3.3815e-01,\n",
              "           -4.1778e-01,  2.9402e-01, -4.5104e-02,  2.6105e-01,  1.3725e-01,\n",
              "           -1.5229e-01,  4.6610e-01, -1.4542e-01,  4.4532e-01, -5.5222e-01,\n",
              "           -2.4159e-02, -6.3307e-02,  1.2454e-01, -3.0406e-01,  3.7419e-01,\n",
              "           -1.5356e-01,  1.2781e-01, -1.1323e-01,  2.6810e-01, -4.4006e-02,\n",
              "           -2.6547e-01, -9.9707e-01, -3.7890e-01,  3.6652e-01, -5.5786e-01,\n",
              "           -2.2179e-01, -4.0036e-01,  1.0070e-01,  1.0695e-01,  1.5459e-01,\n",
              "           -1.6736e-01,  3.6214e-01, -2.6351e-01,  5.5907e-02, -1.4601e-01,\n",
              "           -7.2130e-01, -5.5739e-01,  2.2772e-01,  1.7138e-01,  5.5938e-01,\n",
              "            8.6179e-02,  2.3092e-01, -3.9826e-01,  1.0145e-01,  2.0023e-01],\n",
              "          [-1.9404e-01, -6.3613e-01,  4.6523e-01, -4.3510e-01, -3.4439e-01,\n",
              "           -2.2490e-01, -2.5516e-01,  2.8453e-01, -6.2383e-02,  4.6333e-02,\n",
              "            1.0813e-01,  3.4472e-01,  2.5338e-01,  5.7068e-02,  2.0275e-01,\n",
              "            7.1640e-02,  1.9063e-01,  2.7208e-01,  7.2217e-02, -2.1695e-01,\n",
              "           -2.0543e-01,  2.9558e-01, -5.9244e-02,  2.1984e-01, -4.8523e-02,\n",
              "            4.5351e-02,  5.7720e-01, -7.9452e-02,  3.0381e-01, -4.5449e-01,\n",
              "            5.4206e-02,  1.5044e-01,  5.9785e-02, -2.7237e-01,  2.6220e-01,\n",
              "           -2.6817e-02,  1.9344e-01, -1.7143e-01,  2.7976e-01, -9.9721e-02,\n",
              "           -3.2661e-01, -6.9967e-01, -4.0116e-01,  3.8745e-01, -4.1980e-01,\n",
              "           -1.1019e-01, -2.8934e-01,  7.8287e-03,  1.5183e-01,  1.8499e-01,\n",
              "           -1.8757e-01,  2.5946e-01, -2.4249e-01, -9.4834e-02, -9.5903e-02,\n",
              "           -7.1019e-01, -3.5641e-01,  1.2020e-01,  1.6549e-01,  4.0285e-01,\n",
              "            5.6189e-02,  4.7964e-02, -4.5035e-01,  2.6491e-01,  1.8906e-01],\n",
              "          [ 3.5033e-02, -5.1905e-01,  4.0629e-01, -5.6345e-01, -3.9582e-01,\n",
              "           -4.5142e-02, -2.1096e-01,  2.6236e-01,  1.8725e-02, -1.0664e-02,\n",
              "           -1.3252e-01,  3.7278e-01,  4.0479e-01, -4.5359e-02,  3.1429e-01,\n",
              "            1.7603e-01,  3.0181e-01,  1.0457e-01,  1.2897e-01, -2.1074e-01,\n",
              "           -8.5209e-02,  2.9116e-01, -7.5452e-02,  1.6464e-01,  4.3143e-02,\n",
              "           -7.7947e-02,  6.2223e-01,  1.0865e-01,  2.7635e-01, -3.9387e-01,\n",
              "            1.2914e-01,  1.6767e-01,  2.2972e-01, -2.2772e-01,  4.0622e-01,\n",
              "           -9.2058e-02,  1.6041e-01, -1.2891e-01,  2.5646e-01, -2.0876e-02,\n",
              "           -3.4186e-01, -7.8508e-01, -4.2670e-01,  3.7448e-01, -3.6488e-01,\n",
              "           -1.3591e-03, -2.5162e-01,  8.7588e-02,  1.3236e-01,  2.4688e-01,\n",
              "           -1.4322e-01,  3.5752e-01, -2.0743e-01, -1.7427e-01, -6.9721e-03,\n",
              "           -6.9048e-01, -4.8683e-01,  2.1655e-01, -1.7839e-02,  3.2254e-01,\n",
              "            6.0161e-02,  1.4379e-01, -4.3352e-01,  1.0739e-01,  1.6314e-01],\n",
              "          [ 6.0066e-02, -4.3481e-01,  3.4901e-01, -5.6016e-01, -3.8515e-01,\n",
              "           -1.9943e-02, -2.0046e-01,  2.7048e-01,  1.3274e-01,  1.0213e-02,\n",
              "           -2.2147e-01,  3.2782e-01,  3.1619e-01, -5.7928e-02,  3.0339e-01,\n",
              "            9.1026e-02,  3.2898e-01,  5.9653e-02,  1.5323e-01, -1.5320e-01,\n",
              "           -9.2589e-02,  2.6134e-01, -4.0058e-02,  1.1391e-01,  3.1471e-02,\n",
              "           -7.8183e-02,  5.3937e-01,  1.8411e-01,  2.5962e-01, -2.7922e-01,\n",
              "            7.5454e-02,  7.6398e-02,  2.6807e-01, -2.7647e-01,  3.2863e-01,\n",
              "           -1.2179e-01,  2.3844e-01, -1.3088e-01,  1.7425e-01, -2.3992e-02,\n",
              "           -3.4503e-01, -7.0847e-01, -4.0277e-01,  2.9091e-01, -3.2145e-01,\n",
              "            2.6075e-02, -2.4279e-01,  7.0768e-03,  1.3085e-01,  1.5924e-01,\n",
              "           -1.1850e-01,  2.9280e-01, -1.9302e-01, -1.6803e-01,  1.6720e-02,\n",
              "           -6.9374e-01, -4.4804e-01,  1.7752e-01, -3.6406e-02,  2.7499e-01,\n",
              "            8.7758e-02,  2.2893e-01, -3.8689e-01,  7.1750e-02,  1.4990e-01],\n",
              "          [ 6.6226e-02, -3.4641e-01,  2.5404e-01, -4.7488e-01, -4.1120e-01,\n",
              "           -2.0225e-02, -2.4449e-01,  3.2301e-01,  1.4543e-01, -1.1128e-01,\n",
              "           -3.4083e-01,  3.4036e-01,  1.9083e-01,  3.9275e-02,  1.5958e-01,\n",
              "            9.6999e-02,  2.4942e-01,  8.9063e-02,  8.3564e-02, -1.9746e-01,\n",
              "           -6.1830e-02,  2.5639e-01, -1.4072e-01,  9.3337e-02,  1.0180e-02,\n",
              "           -3.5152e-03,  5.0344e-01,  2.3735e-01,  2.1393e-01, -1.6969e-01,\n",
              "            1.0955e-02,  5.2951e-02,  3.1234e-01, -1.8359e-01,  3.1096e-01,\n",
              "           -1.2432e-01,  2.4836e-01, -7.7005e-02,  1.5290e-01,  1.5649e-02,\n",
              "           -2.8468e-01, -7.2746e-01, -4.2829e-01,  3.3292e-01, -2.6065e-01,\n",
              "            6.5430e-02, -2.4826e-01, -7.5398e-03,  1.2503e-01,  8.4663e-02,\n",
              "           -1.2439e-01,  2.4626e-01, -1.8887e-01, -8.0970e-02, -5.7675e-02,\n",
              "           -6.5012e-01, -3.2320e-01,  2.6373e-01,  6.3378e-02,  2.0216e-01,\n",
              "            4.6035e-02,  2.7277e-01, -3.7038e-01,  7.5847e-02,  2.0897e-01]]],\n",
              "        grad_fn=<ViewBackward0>),\n",
              " tensor(4.3502, grad_fn=<NllLossBackward0>))"
            ]
          },
          "metadata": {},
          "execution_count": 51
        }
      ]
    },
    {
      "cell_type": "code",
      "source": [
        "head1 = selfAttentionHead(16)"
      ],
      "metadata": {
        "id": "BoaNPfYD-fP5"
      },
      "execution_count": 52,
      "outputs": []
    },
    {
      "cell_type": "code",
      "source": [
        "input = torch.randn((batch_size,block_size,n_embd))    #(1,8,32)"
      ],
      "metadata": {
        "id": "l9_EvUAYA7p-"
      },
      "execution_count": 53,
      "outputs": []
    },
    {
      "cell_type": "code",
      "source": [
        "att_out = head1(input)"
      ],
      "metadata": {
        "id": "kN8XE7n_BUCw"
      },
      "execution_count": 54,
      "outputs": []
    },
    {
      "cell_type": "code",
      "source": [
        "att_out.shape"
      ],
      "metadata": {
        "colab": {
          "base_uri": "https://localhost:8080/"
        },
        "id": "hq9a9EB8BV8h",
        "outputId": "56da0b15-ce80-4cdb-d7df-4d47a6c7c243"
      },
      "execution_count": 55,
      "outputs": [
        {
          "output_type": "execute_result",
          "data": {
            "text/plain": [
              "torch.Size([1, 8, 16])"
            ]
          },
          "metadata": {},
          "execution_count": 55
        }
      ]
    },
    {
      "cell_type": "code",
      "source": [],
      "metadata": {
        "id": "7NOM6mr9Blfd"
      },
      "execution_count": null,
      "outputs": []
    }
  ]
}